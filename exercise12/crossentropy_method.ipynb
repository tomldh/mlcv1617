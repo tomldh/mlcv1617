{
 "cells": [
  {
   "cell_type": "markdown",
   "metadata": {},
   "source": [
    "# References\n",
    "This notebook is heavily based on the excellent ``Practical RL'' course from the Yandex\n",
    "School of Data Analysis\n",
    "https://github.com/yandexdataschool/Practical_RL/"
   ]
  },
  {
   "cell_type": "markdown",
   "metadata": {},
   "source": [
    "# Crossentropy method\n",
    "\n",
    "This notebook will teach you to solve reinforcement learning with crossentropy method."
   ]
  },
  {
   "cell_type": "code",
   "execution_count": 65,
   "metadata": {
    "collapsed": true
   },
   "outputs": [],
   "source": [
    "#XVFB will be launched if you run on a server\n",
    "import os\n",
    "if type(os.environ.get(\"DISPLAY\")) is not str or len(os.environ.get(\"DISPLAY\"))==0:\n",
    "    !bash ../xvfb start\n",
    "    %env DISPLAY=:1"
   ]
  },
  {
   "cell_type": "code",
   "execution_count": 66,
   "metadata": {
    "collapsed": false
   },
   "outputs": [
    {
     "name": "stderr",
     "output_type": "stream",
     "text": [
      "[2017-07-21 10:04:59,085] Making new env: Taxi-v2\n"
     ]
    },
    {
     "name": "stdout",
     "output_type": "stream",
     "text": [
      "+---------+\n",
      "|\u001b[34;1mR\u001b[0m: | : :G|\n",
      "| : : : : |\n",
      "| : : : : |\n",
      "| | : |\u001b[43m \u001b[0m: |\n",
      "|Y| : |\u001b[35mB\u001b[0m: |\n",
      "+---------+\n",
      "\n"
     ]
    }
   ],
   "source": [
    "import gym\n",
    "import numpy as np, pandas as pd\n",
    "\n",
    "env = gym.make(\"Taxi-v2\")\n",
    "env.reset()\n",
    "env.render()"
   ]
  },
  {
   "cell_type": "code",
   "execution_count": 67,
   "metadata": {
    "collapsed": false
   },
   "outputs": [
    {
     "name": "stdout",
     "output_type": "stream",
     "text": [
      "n_states=500, n_actions=6\n"
     ]
    }
   ],
   "source": [
    "n_states = env.observation_space.n\n",
    "n_actions = env.action_space.n\n",
    "\n",
    "print(\"n_states=%i, n_actions=%i\"%(n_states,n_actions))"
   ]
  },
  {
   "cell_type": "markdown",
   "metadata": {},
   "source": [
    "# Create stochastic policy\n",
    "\n",
    "This time our policy should be a probability distribution.\n",
    "\n",
    "```policy[s,a] = P(take action a | in state s)```\n",
    "\n",
    "Since we still use integer state and action representations, you can use a 2-dimensional array to represent the policy.\n",
    "\n",
    "Please initialize policy __uniformly__, that is, probabililities of all actions should be equal.\n"
   ]
  },
  {
   "cell_type": "code",
   "execution_count": 68,
   "metadata": {
    "collapsed": false
   },
   "outputs": [],
   "source": [
    "policy = np.ones((n_states, n_actions), dtype=np.float64)\n",
    "policy = policy / n_actions"
   ]
  },
  {
   "cell_type": "code",
   "execution_count": 69,
   "metadata": {
    "collapsed": false
   },
   "outputs": [],
   "source": [
    "assert type(policy) in (np.ndarray,np.matrix)\n",
    "assert np.allclose(policy,1./n_actions)\n",
    "assert np.allclose(np.sum(policy,axis=1), 1)"
   ]
  },
  {
   "cell_type": "markdown",
   "metadata": {},
   "source": [
    "# Play the game\n",
    "\n",
    "Just like before, but we also record all states and actions we took."
   ]
  },
  {
   "cell_type": "code",
   "execution_count": 70,
   "metadata": {
    "collapsed": true
   },
   "outputs": [],
   "source": [
    "def generate_session(t_max=10**4):\n",
    "    \"\"\"\n",
    "    Play game until end or for t_max ticks.\n",
    "    returns: list of states, list of actions and sum of rewards\n",
    "    \"\"\"\n",
    "    states,actions = [],[]\n",
    "    total_reward = 0.\n",
    "    \n",
    "    s = env.reset()\n",
    "    \n",
    "    for t in range(t_max):\n",
    "        \n",
    "        a = np.random.choice(range(n_actions), p=policy[s])\n",
    " \n",
    "        new_s,r,done,info = env.step(a)\n",
    "        \n",
    "        states.append(s)\n",
    "        actions.append(a)\n",
    "        total_reward += r\n",
    "        \n",
    "        s = new_s\n",
    "        if done:\n",
    "            break\n",
    "    return states,actions,total_reward\n",
    "        "
   ]
  },
  {
   "cell_type": "code",
   "execution_count": 71,
   "metadata": {
    "collapsed": false
   },
   "outputs": [],
   "source": [
    "s,a,r = generate_session()\n",
    "assert type(s) == type(a) == list\n",
    "assert len(s) == len(a)\n",
    "assert type(r) is float"
   ]
  },
  {
   "cell_type": "markdown",
   "metadata": {},
   "source": [
    "# Training loop\n",
    "Generate sessions, select N best and fit to those."
   ]
  },
  {
   "cell_type": "code",
   "execution_count": 72,
   "metadata": {
    "collapsed": false
   },
   "outputs": [
    {
     "name": "stdout",
     "output_type": "stream",
     "text": [
      "mean reward = -697.50800\tthreshold = -857.0\n",
      "mean reward = -684.04700\tthreshold = -848.0\n",
      "mean reward = -677.46000\tthreshold = -839.0\n",
      "mean reward = -662.14300\tthreshold = -821.0\n",
      "mean reward = -653.47100\tthreshold = -794.0\n",
      "mean reward = -640.95900\tthreshold = -794.0\n",
      "mean reward = -627.83600\tthreshold = -776.0\n",
      "mean reward = -613.67400\tthreshold = -758.0\n",
      "mean reward = -604.37600\tthreshold = -749.0\n",
      "mean reward = -592.27400\tthreshold = -731.0\n",
      "mean reward = -579.96000\tthreshold = -722.0\n",
      "mean reward = -567.57300\tthreshold = -713.0\n",
      "mean reward = -554.79500\tthreshold = -695.0\n",
      "mean reward = -542.46200\tthreshold = -677.0\n",
      "mean reward = -530.63000\tthreshold = -659.0\n",
      "mean reward = -519.82800\tthreshold = -650.0\n",
      "mean reward = -508.36700\tthreshold = -641.0\n",
      "mean reward = -495.50100\tthreshold = -623.0\n",
      "mean reward = -481.27000\tthreshold = -605.0\n",
      "mean reward = -470.12000\tthreshold = -596.0\n",
      "mean reward = -456.04500\tthreshold = -578.0\n",
      "mean reward = -438.35400\tthreshold = -560.0\n",
      "mean reward = -424.36000\tthreshold = -542.0\n",
      "mean reward = -406.95400\tthreshold = -533.0\n",
      "mean reward = -397.62900\tthreshold = -524.0\n",
      "mean reward = -384.61000\tthreshold = -506.0\n",
      "mean reward = -369.06200\tthreshold = -497.0\n",
      "mean reward = -355.13000\tthreshold = -479.0\n",
      "mean reward = -337.16400\tthreshold = -470.0\n",
      "mean reward = -324.35600\tthreshold = -452.0\n",
      "mean reward = -312.65500\tthreshold = -434.0\n",
      "mean reward = -299.91000\tthreshold = -425.0\n",
      "mean reward = -282.18800\tthreshold = -416.0\n",
      "mean reward = -275.87300\tthreshold = -398.0\n",
      "mean reward = -267.04000\tthreshold = -389.0\n",
      "mean reward = -253.57800\tthreshold = -380.0\n",
      "mean reward = -247.41200\tthreshold = -362.3\n",
      "mean reward = -238.75600\tthreshold = -353.0\n",
      "mean reward = -229.37900\tthreshold = -344.0\n",
      "mean reward = -219.47900\tthreshold = -335.0\n",
      "mean reward = -206.64700\tthreshold = -326.0\n",
      "mean reward = -204.96400\tthreshold = -317.0\n",
      "mean reward = -198.07600\tthreshold = -308.0\n",
      "mean reward = -183.59100\tthreshold = -290.0\n",
      "mean reward = -174.84700\tthreshold = -281.0\n",
      "mean reward = -167.04300\tthreshold = -272.0\n",
      "mean reward = -152.85900\tthreshold = -263.0\n",
      "mean reward = -152.66700\tthreshold = -254.0\n",
      "mean reward = -140.36100\tthreshold = -245.0\n",
      "mean reward = -138.38000\tthreshold = -236.0\n",
      "mean reward = -132.34500\tthreshold = -227.0\n",
      "mean reward = -129.56100\tthreshold = -218.0\n",
      "mean reward = -121.53900\tthreshold = -209.0\n",
      "mean reward = -120.11100\tthreshold = -209.0\n",
      "mean reward = -116.64900\tthreshold = -200.0\n",
      "mean reward = -108.06400\tthreshold = -209.0\n",
      "mean reward = -104.53900\tthreshold = -209.0\n",
      "mean reward = -101.41800\tthreshold = -200.0\n",
      "mean reward = -99.35100\tthreshold = -209.0\n",
      "mean reward = -94.19100\tthreshold = -200.0\n",
      "mean reward = -92.43700\tthreshold = -209.0\n",
      "mean reward = -88.34800\tthreshold = -200.0\n",
      "mean reward = -80.69600\tthreshold = -200.0\n",
      "mean reward = -72.36000\tthreshold = -191.1\n",
      "mean reward = -65.44800\tthreshold = -152.0\n",
      "mean reward = -56.71500\tthreshold = -114.0\n",
      "mean reward = -48.15500\tthreshold = -95.0\n",
      "mean reward = -39.75200\tthreshold = -78.0\n",
      "mean reward = -36.65500\tthreshold = -74.1\n",
      "mean reward = -31.79900\tthreshold = -66.0\n",
      "mean reward = -26.70500\tthreshold = -58.1\n",
      "mean reward = -24.35300\tthreshold = -54.0\n",
      "mean reward = -21.23600\tthreshold = -48.0\n",
      "mean reward = -16.98300\tthreshold = -40.0\n",
      "mean reward = -15.42900\tthreshold = -39.0\n",
      "mean reward = -12.18500\tthreshold = -30.0\n",
      "mean reward = -10.39200\tthreshold = -28.0\n",
      "mean reward = -9.18200\tthreshold = -27.0\n",
      "mean reward = -7.59000\tthreshold = -24.1\n",
      "mean reward = -6.53000\tthreshold = -22.0\n",
      "mean reward = -5.75100\tthreshold = -21.0\n",
      "mean reward = -5.60400\tthreshold = -20.0\n",
      "mean reward = -4.47400\tthreshold = -18.0\n",
      "mean reward = -3.52600\tthreshold = -16.0\n",
      "mean reward = -3.14600\tthreshold = -16.0\n",
      "mean reward = -2.75500\tthreshold = -16.0\n",
      "mean reward = -1.85900\tthreshold = -14.0\n",
      "mean reward = -1.50000\tthreshold = -14.0\n",
      "mean reward = -0.83200\tthreshold = -13.0\n",
      "mean reward = -0.23100\tthreshold = -11.0\n",
      "mean reward = -0.43000\tthreshold = -11.0\n",
      "mean reward = 0.03100\tthreshold = -10.0\n",
      "mean reward = 0.42200\tthreshold = -10.0\n",
      "mean reward = 0.90700\tthreshold = -9.0\n",
      "mean reward = 1.05600\tthreshold = -8.0\n",
      "mean reward = 1.53600\tthreshold = -8.0\n",
      "mean reward = 1.52900\tthreshold = -8.0\n",
      "mean reward = 1.26700\tthreshold = -8.0\n",
      "mean reward = 1.97400\tthreshold = -8.0\n",
      "mean reward = 1.83400\tthreshold = -8.0\n",
      "mean reward = 1.83400\tthreshold = -8.0\n"
     ]
    },
    {
     "data": {
      "image/png": "[encoded data removed]",
      "text/plain": [
       "<matplotlib.figure.Figure at 0x7f1d9c1b42b0>"
      ]
     },
     "metadata": {},
     "output_type": "display_data"
    }
   ],
   "source": [
    "import warnings\n",
    "warnings.filterwarnings('ignore')\n",
    "import matplotlib.pyplot as plt\n",
    "\n",
    "n_samples = 1000  #sample this many samples\n",
    "percentile = 10  #take this percent of session with highest rewards\n",
    "smoothing = 0.1  #add this thing to all counts for stability\n",
    "\n",
    "rewards = []\n",
    "thresholds = []\n",
    "\n",
    "for i in range(100):\n",
    "    \n",
    "    #%time \n",
    "    sessions = [generate_session(i) for i in range(n_samples)]\n",
    "\n",
    "    batch_states,batch_actions,batch_rewards = map(np.array,zip(*sessions))\n",
    "\n",
    "    #batch_states: a list of lists of states in each session\n",
    "    #batch_actions: a list of lists of actions in each session\n",
    "    #batch_rewards: a list of floats - total rewards at each session\n",
    "    \n",
    "    threshold = np.percentile(batch_rewards, percentile)\n",
    "    \n",
    "    elite_states = batch_states[batch_rewards > threshold]\n",
    "    elite_actions = batch_actions[batch_rewards > threshold]\n",
    "    \n",
    "    elite_states, elite_actions = map(np.concatenate,[elite_states,elite_actions])\n",
    "    #hint on task above: use np.percentile and numpy-style indexing\n",
    "    \n",
    "    #count actions from elite states\n",
    "    elite_counts = np.zeros_like(policy)+smoothing\n",
    "    \n",
    "    for i in range(len(elite_states)):\n",
    "        elite_counts[elite_states[i], elite_actions[i]] += 1\n",
    "    \n",
    "    policy = elite_counts / np.linalg.norm(elite_counts, ord=1, axis=1, keepdims=True)\n",
    "    assert np.allclose(np.sum(policy,axis=1), 1)\n",
    "    \n",
    "    rewards.append(np.mean(batch_rewards))\n",
    "    thresholds.append(threshold)\n",
    "    \n",
    "    print(\"mean reward = %.5f\\tthreshold = %.1f\"%(np.mean(batch_rewards),threshold))\n",
    "\n",
    "print(\"mean reward = %.5f\\tthreshold = %.1f\"%(rewards[len(rewards)-1],thresholds[len(rewards)-1]))\n",
    "\n",
    "\n",
    "\n",
    "plt.plot(range(0, len(rewards)), rewards)\n",
    "plt.plot(range(0, len(thresholds)), thresholds)\n",
    "plt.xlabel('Iteration')\n",
    "plt.ylabel('Reward/Threshold')\n",
    "\n",
    "plt.legend(['Reward', 'Threshold'], loc='lower right')\n",
    "plt.show()"
   ]
  },
  {
   "cell_type": "markdown",
   "metadata": {},
   "source": [
    "# Homework\n",
    "\n",
    "### Tabular correntropy method\n",
    "\n",
    "You may have noticed that the taxi problem quickly converges from -10k to aroung -500 score (+- 500) and stays there. This is in part because taxi-v2 has some hard-coded randomness in the environment. Other reason is that the percentile was chosen poorly.\n",
    "\n",
    "### Tasks\n",
    "- __1.1__ (5 pt) Modify the tabular CEM (CrossEntropyMethod) code to plot distribution of rewards and threshold on each tick.\n",
    "- __1.2__ (5 pts) Find out how the algorithm performance changes if you change different percentile and different n_samples.\n",
    "\n",
    "```<YOUR ANSWER>```\n",
    "\n",
    "\n",
    "- __1.3__ (10 pts) Tune the algorithm to end up with positive average score.\n",
    "- __1.4 bonus__ (10 pt) Try to achieve a distribution where 25% or more samples score above +9.0\n",
    "\n",
    "It's okay to modify the existing code.\n"
   ]
  },
  {
   "cell_type": "markdown",
   "metadata": {},
   "source": []
  }
 ],
 "metadata": {
  "anaconda-cloud": {},
  "kernelspec": {
   "display_name": "Python [default]",
   "language": "python",
   "name": "python3"
  },
  "language_info": {
   "codemirror_mode": {
    "name": "ipython",
    "version": 3
   },
   "file_extension": ".py",
   "mimetype": "text/x-python",
   "name": "python",
   "nbconvert_exporter": "python",
   "pygments_lexer": "ipython3",
   "version": "3.5.2"
  }
 },
 "nbformat": 4,
 "nbformat_minor": 1
}
