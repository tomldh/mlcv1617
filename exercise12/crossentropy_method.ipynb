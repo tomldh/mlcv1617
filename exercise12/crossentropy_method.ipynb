{
 "cells": [
  {
   "cell_type": "markdown",
   "metadata": {},
   "source": [
    "# References\n",
    "This notebook is heavily based on the excellent ``Practical RL'' course from the Yandex\n",
    "School of Data Analysis\n",
    "https://github.com/yandexdataschool/Practical_RL/"
   ]
  },
  {
   "cell_type": "markdown",
   "metadata": {},
   "source": [
    "# Crossentropy method\n",
    "\n",
    "This notebook will teach you to solve reinforcement learning with crossentropy method."
   ]
  },
  {
   "cell_type": "code",
   "execution_count": 230,
   "metadata": {
    "collapsed": true
   },
   "outputs": [],
   "source": [
    "#XVFB will be launched if you run on a server\n",
    "import os\n",
    "if type(os.environ.get(\"DISPLAY\")) is not str or len(os.environ.get(\"DISPLAY\"))==0:\n",
    "    !bash ../xvfb start\n",
    "    %env DISPLAY=:1"
   ]
  },
  {
   "cell_type": "code",
   "execution_count": 231,
   "metadata": {
    "collapsed": false
   },
   "outputs": [
    {
     "name": "stderr",
     "output_type": "stream",
     "text": [
      "[2017-07-20 23:54:19,518] Making new env: Taxi-v2\n"
     ]
    },
    {
     "name": "stdout",
     "output_type": "stream",
     "text": [
      "+---------+\n",
      "|\u001b[34;1mR\u001b[0m: | : :G|\n",
      "| : :\u001b[43m \u001b[0m: : |\n",
      "| : : : : |\n",
      "| | : | : |\n",
      "|Y| : |\u001b[35mB\u001b[0m: |\n",
      "+---------+\n",
      "\n"
     ]
    }
   ],
   "source": [
    "import gym\n",
    "import numpy as np, pandas as pd\n",
    "\n",
    "env = gym.make(\"Taxi-v2\")\n",
    "env.reset()\n",
    "env.render()"
   ]
  },
  {
   "cell_type": "code",
   "execution_count": 232,
   "metadata": {
    "collapsed": false
   },
   "outputs": [
    {
     "name": "stdout",
     "output_type": "stream",
     "text": [
      "n_states=500, n_actions=6\n"
     ]
    }
   ],
   "source": [
    "n_states = env.observation_space.n\n",
    "n_actions = env.action_space.n\n",
    "\n",
    "print(\"n_states=%i, n_actions=%i\"%(n_states,n_actions))"
   ]
  },
  {
   "cell_type": "markdown",
   "metadata": {},
   "source": [
    "# Create stochastic policy\n",
    "\n",
    "This time our policy should be a probability distribution.\n",
    "\n",
    "```policy[s,a] = P(take action a | in state s)```\n",
    "\n",
    "Since we still use integer state and action representations, you can use a 2-dimensional array to represent the policy.\n",
    "\n",
    "Please initialize policy __uniformly__, that is, probabililities of all actions should be equal.\n"
   ]
  },
  {
   "cell_type": "code",
   "execution_count": 233,
   "metadata": {
    "collapsed": false
   },
   "outputs": [],
   "source": [
    "policy = np.ones((n_states, n_actions), dtype=np.float64)\n",
    "policy = policy / n_actions"
   ]
  },
  {
   "cell_type": "code",
   "execution_count": 234,
   "metadata": {
    "collapsed": false
   },
   "outputs": [],
   "source": [
    "assert type(policy) in (np.ndarray,np.matrix)\n",
    "assert np.allclose(policy,1./n_actions)\n",
    "assert np.allclose(np.sum(policy,axis=1), 1)"
   ]
  },
  {
   "cell_type": "markdown",
   "metadata": {},
   "source": [
    "# Play the game\n",
    "\n",
    "Just like before, but we also record all states and actions we took."
   ]
  },
  {
   "cell_type": "code",
   "execution_count": 235,
   "metadata": {
    "collapsed": true
   },
   "outputs": [],
   "source": [
    "def generate_session(t_max=10**4):\n",
    "    \"\"\"\n",
    "    Play game until end or for t_max ticks.\n",
    "    returns: list of states, list of actions and sum of rewards\n",
    "    \"\"\"\n",
    "    states,actions = [],[]\n",
    "    total_reward = 0.\n",
    "    \n",
    "    s = env.reset()\n",
    "    \n",
    "    for t in range(t_max):\n",
    "        \n",
    "        a = np.random.choice(range(n_actions), p=policy[s])\n",
    " \n",
    "        new_s,r,done,info = env.step(a)\n",
    "        \n",
    "        states.append(s)\n",
    "        actions.append(a)\n",
    "        total_reward += r\n",
    "        \n",
    "        s = new_s\n",
    "        if done:\n",
    "            break\n",
    "    return states,actions,total_reward\n",
    "        "
   ]
  },
  {
   "cell_type": "code",
   "execution_count": 236,
   "metadata": {
    "collapsed": false
   },
   "outputs": [],
   "source": [
    "s,a,r = generate_session()\n",
    "assert type(s) == type(a) == list\n",
    "assert len(s) == len(a)\n",
    "assert type(r) is float\n"
   ]
  },
  {
   "cell_type": "markdown",
   "metadata": {},
   "source": [
    "# Training loop\n",
    "Generate sessions, select N best and fit to those."
   ]
  },
  {
   "cell_type": "code",
   "execution_count": 237,
   "metadata": {
    "collapsed": false
   },
   "outputs": [
    {
     "name": "stdout",
     "output_type": "stream",
     "text": [
      "mean reward = -667.56800\tthreshold = -857.0\n",
      "mean reward = -654.20133\tthreshold = -839.0\n",
      "mean reward = -636.42400\tthreshold = -821.0\n",
      "mean reward = -628.80667\tthreshold = -812.0\n",
      "mean reward = -620.09733\tthreshold = -794.0\n",
      "mean reward = -611.24133\tthreshold = -794.0\n",
      "mean reward = -598.11467\tthreshold = -776.0\n",
      "mean reward = -585.63467\tthreshold = -758.0\n",
      "mean reward = -574.61200\tthreshold = -749.0\n",
      "mean reward = -555.20667\tthreshold = -731.0\n",
      "mean reward = -542.80267\tthreshold = -713.0\n",
      "mean reward = -528.31067\tthreshold = -695.9\n",
      "mean reward = -519.09867\tthreshold = -686.0\n",
      "mean reward = -497.86533\tthreshold = -668.0\n",
      "mean reward = -486.93467\tthreshold = -659.0\n",
      "mean reward = -467.41067\tthreshold = -641.0\n",
      "mean reward = -451.97733\tthreshold = -623.0\n",
      "mean reward = -440.42267\tthreshold = -614.0\n",
      "mean reward = -426.62933\tthreshold = -587.0\n",
      "mean reward = -409.91467\tthreshold = -578.0\n",
      "mean reward = -399.54800\tthreshold = -560.0\n",
      "mean reward = -377.89733\tthreshold = -551.0\n",
      "mean reward = -367.84267\tthreshold = -533.0\n",
      "mean reward = -352.12267\tthreshold = -524.0\n",
      "mean reward = -335.56267\tthreshold = -506.0\n",
      "mean reward = -329.10133\tthreshold = -497.0\n",
      "mean reward = -310.45200\tthreshold = -479.0\n",
      "mean reward = -302.70800\tthreshold = -461.0\n",
      "mean reward = -288.32667\tthreshold = -452.0\n",
      "mean reward = -265.27733\tthreshold = -433.1\n",
      "mean reward = -252.48400\tthreshold = -416.0\n",
      "mean reward = -238.29733\tthreshold = -398.0\n",
      "mean reward = -228.09600\tthreshold = -380.0\n",
      "mean reward = -226.19600\tthreshold = -371.0\n",
      "mean reward = -213.13467\tthreshold = -353.0\n",
      "mean reward = -197.88667\tthreshold = -335.5\n",
      "mean reward = -190.12133\tthreshold = -332.1\n",
      "mean reward = -191.26000\tthreshold = -320.6\n",
      "mean reward = -176.23467\tthreshold = -308.0\n",
      "mean reward = -165.33067\tthreshold = -290.0\n",
      "mean reward = -160.88533\tthreshold = -281.0\n",
      "mean reward = -155.65333\tthreshold = -272.0\n",
      "mean reward = -148.07333\tthreshold = -263.0\n",
      "mean reward = -138.16133\tthreshold = -245.0\n",
      "mean reward = -132.38400\tthreshold = -236.0\n",
      "mean reward = -130.63733\tthreshold = -236.0\n",
      "mean reward = -121.76133\tthreshold = -218.0\n",
      "mean reward = -119.08800\tthreshold = -218.0\n",
      "mean reward = -113.91733\tthreshold = -209.0\n",
      "mean reward = -112.16133\tthreshold = -209.0\n",
      "mean reward = -99.69067\tthreshold = -200.0\n",
      "mean reward = -100.21333\tthreshold = -200.0\n",
      "mean reward = -97.39067\tthreshold = -209.0\n",
      "mean reward = -85.28533\tthreshold = -200.0\n",
      "mean reward = -82.08933\tthreshold = -193.0\n",
      "mean reward = -77.68000\tthreshold = -179.3\n",
      "mean reward = -70.92400\tthreshold = -148.0\n",
      "mean reward = -66.71200\tthreshold = -137.0\n",
      "mean reward = -56.99467\tthreshold = -117.2\n",
      "mean reward = -51.32667\tthreshold = -98.1\n",
      "mean reward = -44.02400\tthreshold = -89.0\n",
      "mean reward = -42.76133\tthreshold = -84.0\n",
      "mean reward = -36.70933\tthreshold = -70.0\n",
      "mean reward = -33.39467\tthreshold = -68.1\n",
      "mean reward = -28.32933\tthreshold = -57.0\n",
      "mean reward = -24.73733\tthreshold = -53.0\n",
      "mean reward = -21.74933\tthreshold = -46.0\n",
      "mean reward = -20.94000\tthreshold = -45.1\n",
      "mean reward = -19.06400\tthreshold = -43.0\n",
      "mean reward = -17.83600\tthreshold = -42.0\n",
      "mean reward = -15.43867\tthreshold = -37.0\n",
      "mean reward = -14.01733\tthreshold = -34.0\n",
      "mean reward = -13.64800\tthreshold = -34.0\n",
      "mean reward = -11.47200\tthreshold = -29.1\n",
      "mean reward = -10.44133\tthreshold = -29.0\n",
      "mean reward = -9.13467\tthreshold = -29.0\n",
      "mean reward = -8.30000\tthreshold = -24.1\n",
      "mean reward = -7.29867\tthreshold = -25.0\n",
      "mean reward = -7.18933\tthreshold = -23.0\n",
      "mean reward = -5.94267\tthreshold = -22.0\n",
      "mean reward = -6.38667\tthreshold = -23.0\n",
      "mean reward = -4.82933\tthreshold = -19.0\n",
      "mean reward = -4.75600\tthreshold = -19.0\n",
      "mean reward = -4.25867\tthreshold = -18.0\n",
      "mean reward = -4.16400\tthreshold = -18.0\n",
      "mean reward = -4.40267\tthreshold = -18.0\n",
      "mean reward = -4.43467\tthreshold = -19.0\n",
      "mean reward = -3.22267\tthreshold = -18.0\n",
      "mean reward = -2.87333\tthreshold = -16.1\n",
      "mean reward = -2.85333\tthreshold = -16.0\n",
      "mean reward = -3.33067\tthreshold = -17.0\n",
      "mean reward = -3.12933\tthreshold = -16.0\n",
      "mean reward = -2.70400\tthreshold = -14.0\n",
      "mean reward = -2.76800\tthreshold = -16.0\n",
      "mean reward = -2.38133\tthreshold = -15.1\n",
      "mean reward = -2.59067\tthreshold = -16.0\n",
      "mean reward = -2.91467\tthreshold = -16.0\n",
      "mean reward = -2.36933\tthreshold = -15.0\n",
      "mean reward = -2.33467\tthreshold = -16.0\n",
      "mean reward = -1.70400\tthreshold = -13.0\n",
      "mean reward = -1.70400\tthreshold = -13.0\n"
     ]
    },
    {
     "data": {
      "image/png": "[encoded data removed]",
      "text/plain": [
       "<matplotlib.figure.Figure at 0x7f30f4a43c50>"
      ]
     },
     "metadata": {},
     "output_type": "display_data"
    }
   ],
   "source": [
    "import warnings\n",
    "warnings.filterwarnings('ignore')\n",
    "import matplotlib.pyplot as plt\n",
    "\n",
    "n_samples = 750  #sample this many samples\n",
    "percentile = 15  #take this percent of session with highest rewards\n",
    "smoothing = 0.1  #add this thing to all counts for stability\n",
    "\n",
    "rewards = []\n",
    "thresholds = []\n",
    "\n",
    "for i in range(100):\n",
    "    \n",
    "    #%time \n",
    "    sessions = [generate_session(i) for i in range(n_samples)]\n",
    "\n",
    "    batch_states,batch_actions,batch_rewards = map(np.array,zip(*sessions))\n",
    "\n",
    "    #batch_states: a list of lists of states in each session\n",
    "    #batch_actions: a list of lists of actions in each session\n",
    "    #batch_rewards: a list of floats - total rewards at each session\n",
    "    \n",
    "    threshold = np.percentile(batch_rewards, percentile)\n",
    "    \n",
    "    elite_states = batch_states[batch_rewards > threshold]\n",
    "    elite_actions = batch_actions[batch_rewards > threshold]\n",
    "    \n",
    "    elite_states, elite_actions = map(np.concatenate,[elite_states,elite_actions])\n",
    "    #hint on task above: use np.percentile and numpy-style indexing\n",
    "    \n",
    "    #count actions from elite states\n",
    "    elite_counts = np.zeros_like(policy)+smoothing\n",
    "    \n",
    "    for i in range(len(elite_states)):\n",
    "        elite_counts[elite_states[i], elite_actions[i]] += 1\n",
    "    \n",
    "    policy = elite_counts / np.linalg.norm(elite_counts, ord=1, axis=1, keepdims=True)\n",
    "    assert np.allclose(np.sum(policy,axis=1), 1)\n",
    "    \n",
    "    rewards.append(np.mean(batch_rewards))\n",
    "    thresholds.append(threshold)\n",
    "    \n",
    "    print(\"mean reward = %.5f\\tthreshold = %.1f\"%(np.mean(batch_rewards),threshold))\n",
    "\n",
    "print(\"mean reward = %.5f\\tthreshold = %.1f\"%(rewards[len(rewards)-1],thresholds[len(rewards)-1]))\n",
    "\n",
    "\n",
    "\n",
    "plt.plot(range(0, len(rewards)), rewards)\n",
    "plt.plot(range(0, len(thresholds)), thresholds)\n",
    "plt.xlabel('Iteration')\n",
    "plt.ylabel('Reward/Threshold')\n",
    "\n",
    "plt.legend(['Reward', 'Threshold'], loc='upper left')\n",
    "plt.show()"
   ]
  },
  {
   "cell_type": "markdown",
   "metadata": {},
   "source": [
    "# Homework\n",
    "\n",
    "### Tabular correntropy method\n",
    "\n",
    "You may have noticed that the taxi problem quickly converges from -10k to aroung -500 score (+- 500) and stays there. This is in part because taxi-v2 has some hard-coded randomness in the environment. Other reason is that the percentile was chosen poorly.\n",
    "\n",
    "### Tasks\n",
    "- __1.1__ (5 pt) Modify the tabular CEM (CrossEntropyMethod) code to plot distribution of rewards and threshold on each tick.\n",
    "- __1.2__ (5 pts) Find out how the algorithm performance changes if you change different percentile and different n_samples.\n",
    "\n",
    "```<YOUR ANSWER>```\n",
    "\n",
    "\n",
    "- __1.3__ (10 pts) Tune the algorithm to end up with positive average score.\n",
    "- __1.4 bonus__ (10 pt) Try to achieve a distribution where 25% or more samples score above +9.0\n",
    "\n",
    "It's okay to modify the existing code.\n"
   ]
  },
  {
   "cell_type": "markdown",
   "metadata": {},
   "source": []
  }
 ],
 "metadata": {
  "anaconda-cloud": {},
  "kernelspec": {
   "display_name": "Python [default]",
   "language": "python",
   "name": "python3"
  },
  "language_info": {
   "codemirror_mode": {
    "name": "ipython",
    "version": 3
   },
   "file_extension": ".py",
   "mimetype": "text/x-python",
   "name": "python",
   "nbconvert_exporter": "python",
   "pygments_lexer": "ipython3",
   "version": "3.5.2"
  }
 },
 "nbformat": 4,
 "nbformat_minor": 1
}
